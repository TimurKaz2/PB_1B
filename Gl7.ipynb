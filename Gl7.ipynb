{
 "cells": [
  {
   "attachments": {},
   "cell_type": "markdown",
   "metadata": {},
   "source": [
    "# Блок 7\n",
    "## Задание 1.1"
   ]
  },
  {
   "cell_type": "code",
   "execution_count": null,
   "metadata": {
    "vscode": {
     "languageId": "plaintext"
    }
   },
   "outputs": [],
   "source": [
    "import pandas as pd \n",
    "df = pd.read_csv('iris.csv') \n",
    "print(df[0:10])\n",
    "print (df.info())\n",
    "#var_flower = {'iris-setosa': 0, 'iris-versicolor': 1, 'iris-virginica': 2} \n",
    "#df['species'] = df['species'].map(var_flower)\n",
    "print (df['species'].unique())\n",
    "print(len('iris-setosa'))\n",
    "print(len('iris-versicolor'))\n",
    "print(len('iris-virginica'))"
   ]
  },
  {
   "attachments": {},
   "cell_type": "markdown",
   "metadata": {},
   "source": [
    "## Задание 1.2"
   ]
  },
  {
   "cell_type": "code",
   "execution_count": null,
   "metadata": {
    "vscode": {
     "languageId": "plaintext"
    }
   },
   "outputs": [],
   "source": [
    "import pandas as pd \n",
    "df = pd.read_csv('iris.csv') \n",
    "var_flower = {'iris-setosa': 0, 'iris-versicolor': 1, 'iris-virginica': 2} \n",
    "df['species'] = df['species'].map(var_flower)\n",
    "print(df)"
   ]
  },
  {
   "attachments": {},
   "cell_type": "markdown",
   "metadata": {},
   "source": [
    "## Задание 1.3"
   ]
  },
  {
   "cell_type": "code",
   "execution_count": null,
   "metadata": {
    "vscode": {
     "languageId": "plaintext"
    }
   },
   "outputs": [],
   "source": [
    "import pandas as pd \n",
    "df = pd.read_csv('iris.csv') \n",
    "var_flower = {'iris-setosa': 0, 'iris-versicolor': 1, 'iris-virginica': 2} \n",
    "df['species'] = df['species'].map(var_flower)\n",
    "fn = df[(df[\"species\"] == 0)]\n",
    "fn_1 = df[(df[\"species\"] == 1)]\n",
    "fn_2 = df[(df[\"species\"] == 2)]\n",
    "print(fn)\n",
    "print(fn_1)\n",
    "print(fn_2)\n",
    "fn.to_csv('iris-setosa.csv')\n",
    "fn_1.to_excel('iris-versicolor.xlsx') \n",
    "fn_2.to_csv('iris-virginica.txt', sep = ',') "
   ]
  },
  {
   "attachments": {},
   "cell_type": "markdown",
   "metadata": {},
   "source": [
    "## Задание 1.4"
   ]
  },
  {
   "cell_type": "code",
   "execution_count": null,
   "metadata": {
    "vscode": {
     "languageId": "plaintext"
    }
   },
   "outputs": [],
   "source": [
    "import pandas as pd \n",
    "import matplotlib.pyplot as plt \n",
    "df = pd.read_csv('iris-setosa.csv') \n",
    "plt.subplot(1,2,1)\n",
    "plt.scatter(df['sepal_len'], df['sepal_wd']) \n",
    "plt.subplot(1,2,2)\n",
    "plt.scatter(df['petal_len'], df['petal_wd']) \n",
    "plt.show()"
   ]
  },
  {
   "attachments": {},
   "cell_type": "markdown",
   "metadata": {},
   "source": [
    "## Задание 1.5"
   ]
  },
  {
   "cell_type": "code",
   "execution_count": null,
   "metadata": {
    "vscode": {
     "languageId": "plaintext"
    }
   },
   "outputs": [],
   "source": [
    "import pandas as pd \n",
    "import matplotlib.pyplot as plt \n",
    "import xlrd\n",
    "df = pd.read_excel('iris-versicolor.xlsx') \n",
    "plt.subplot(1,2,1)\n",
    "plt.scatter(df['sepal_len'], df['sepal_wd']) \n",
    "plt.subplot(1,2,2)\n",
    "plt.scatter(df['petal_len'], df['petal_wd']) \n",
    "plt.show()"
   ]
  },
  {
   "attachments": {},
   "cell_type": "markdown",
   "metadata": {},
   "source": [
    "## Задание 1.6"
   ]
  },
  {
   "cell_type": "code",
   "execution_count": null,
   "metadata": {
    "vscode": {
     "languageId": "plaintext"
    }
   },
   "outputs": [],
   "source": [
    "import pandas as pd \n",
    "import matplotlib.pyplot as plt \n",
    "df = pd.read_csv('iris-virginica.txt') \n",
    "plt.subplot(1,2,1)\n",
    "plt.scatter(df['sepal_len'], df['sepal_wd']) \n",
    "plt.subplot(1,2,2)\n",
    "plt.scatter(df['petal_len'], df['petal_wd']) \n",
    "plt.show()"
   ]
  },
  {
   "attachments": {},
   "cell_type": "markdown",
   "metadata": {},
   "source": [
    "## 2. Чтение и запись JSON-файлов"
   ]
  },
  {
   "cell_type": "code",
   "execution_count": null,
   "metadata": {
    "vscode": {
     "languageId": "plaintext"
    }
   },
   "outputs": [],
   "source": [
    "import pandas as pd \n",
    "import json \n",
    "import statistics\n",
    "import numpy as np\n",
    "df = pd.read_json('peoples.json')\n",
    "\n",
    "\n",
    "#with open('peoples.json') as f: peoples = json.load(f) \n",
    "#print(peoples['heights'].values()) \n",
    "#print(min(peoples['heights'].values()))\n",
    "#print(max(peoples['heights'].values()))\n",
    "print(df.describe())\n",
    "print('2.3')\n",
    "\n",
    "q3= np.percentile (df['heights'],[75])\n",
    "q1= np.percentile (df['heights'],[25])\n",
    "iqr = q3 - q1\n",
    "print(iqr)\n",
    "\n",
    "q4= np.percentile (df['weights'],[75])\n",
    "q2= np.percentile (df['weights'],[25])\n",
    "iqr1 = q4 - q2\n",
    "print(iqr1)\n",
    "\n",
    "q7= np.percentile (df['ages'],[75])\n",
    "q5= np.percentile (df['ages'],[25])\n",
    "iqr2 = q7 - q5\n",
    "print(iqr2)\n",
    "print('2.4 - ' ,df['gender'].unique())"
   ]
  },
  {
   "attachments": {},
   "cell_type": "markdown",
   "metadata": {},
   "source": [
    "## 3. Чтение html-файлов из интернета, парсинг данных, API"
   ]
  },
  {
   "cell_type": "code",
   "execution_count": null,
   "metadata": {
    "vscode": {
     "languageId": "plaintext"
    }
   },
   "outputs": [],
   "source": [
    "import pandas as pd\n",
    "import requests \n",
    "import re \n",
    "from bs4 import BeautifulSoup \n",
    "\n",
    "URL = 'https://mculab.ru/' \n",
    "result = requests.get(URL).text \n",
    "\n",
    "\n",
    "found_parts = re.findall('супер', result) \n",
    "print(len(found_parts)) \n",
    "print(found_parts) \n",
    "#book=re.findall('p', attrs = {'class' : 'main_title_b'})\n",
    "attrs = {'class' : 'main_title_b'}\n",
    "head_title = [] \n",
    "for row in result.findall('p', attrs ): \n",
    " head_title.append(row.text) "
   ]
  }
 ],
 "metadata": {
  "language_info": {
   "name": "python"
  },
  "orig_nbformat": 4
 },
 "nbformat": 4,
 "nbformat_minor": 2
}
