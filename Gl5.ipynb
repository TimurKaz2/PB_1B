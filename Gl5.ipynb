{
 "cells": [
  {
   "attachments": {},
   "cell_type": "markdown",
   "metadata": {},
   "source": [
    "# Блок 5\n",
    "## задание 5.1"
   ]
  },
  {
   "cell_type": "code",
   "execution_count": null,
   "metadata": {
    "vscode": {
     "languageId": "plaintext"
    }
   },
   "outputs": [],
   "source": [
    "import pandas as pd \n",
    "df = pd.read_csv('precious_metal_new.csv') \n",
    "df = df.loc[:,['gold', 'gold_usd', 'silver', 'silver_usd', \n",
    " 'platinum', 'platinum_usd', 'palladium', 'palladium_usd', \n",
    " 'date']]\n",
    "print(df)"
   ]
  },
  {
   "attachments": {},
   "cell_type": "markdown",
   "metadata": {},
   "source": [
    "## задание 5.2"
   ]
  },
  {
   "cell_type": "code",
   "execution_count": null,
   "metadata": {
    "vscode": {
     "languageId": "plaintext"
    }
   },
   "outputs": [],
   "source": [
    "import pandas as pd \n",
    "df = pd.read_csv('precious_metal_new.csv') \n",
    "df = df.loc[:,['gold', 'gold_usd', 'silver', 'silver_usd', \n",
    " 'platinum', 'platinum_usd', 'palladium', 'palladium_usd', \n",
    " 'date']]\n",
    "df['date'] = pd.to_datetime(df['date'], format='%d.%m.%Y %H:%M') \n",
    "print(df)\n",
    "print(df.info())"
   ]
  },
  {
   "attachments": {},
   "cell_type": "markdown",
   "metadata": {},
   "source": [
    "## Задание 5.3"
   ]
  },
  {
   "cell_type": "code",
   "execution_count": null,
   "metadata": {
    "vscode": {
     "languageId": "plaintext"
    }
   },
   "outputs": [],
   "source": [
    "import pandas as pd \n",
    "df = pd.read_csv('precious_metal_new.csv') \n",
    "df = df.loc[:,['gold', 'gold_usd', 'silver', 'silver_usd', \n",
    " 'platinum', 'platinum_usd', 'palladium', 'palladium_usd', \n",
    " 'date']]\n",
    "df['date'] = pd.to_datetime(df['date'], format='%d.%m.%Y %H:%M') \n",
    "\n",
    "df['month']=pd.DatetimeIndex(df['date']).month\n",
    "months = {1:'Январь', 2:'Февраль', 3:'Март', 4:'Апрель', 5:'Май', 6:'Июнь', 7:'Июль', 8:'Август', 9:'Сентябрь', 10:'Октябрь', 11:'Ноябрь', 12:'Декабрь'}\n",
    "df['month'] = df['month'].apply(lambda i: months[i])\n",
    "print(df)"
   ]
  },
  {
   "attachments": {},
   "cell_type": "markdown",
   "metadata": {},
   "source": [
    "## Задание 5.4"
   ]
  },
  {
   "cell_type": "code",
   "execution_count": null,
   "metadata": {
    "vscode": {
     "languageId": "plaintext"
    }
   },
   "outputs": [],
   "source": [
    "import pandas as pd \n",
    "df = pd.read_csv('precious_metal_new.csv') \n",
    "df = df.loc[:,['gold', 'gold_usd', 'silver', 'silver_usd', \n",
    " 'platinum', 'platinum_usd', 'palladium', 'palladium_usd', \n",
    " 'date']]\n",
    "df['date'] = pd.to_datetime(df['date'], format='%d.%m.%Y %H:%M') \n",
    "\n",
    "df['month']=pd.DatetimeIndex(df['date']).month\n",
    "months = {1:'Январь', 2:'Февраль', 3:'Март', 4:'Апрель', 5:'Май', 6:'Июнь', 7:'Июль', 8:'Август', 9:'Сентябрь', 10:'Октябрь', 11:'Ноябрь', 12:'Декабрь'}\n",
    "df['month'] = df['month'].apply(lambda i: months[i])\n",
    "#print(df)\n",
    "\n",
    "#__________________________________________________________\n",
    "fn = df[df[\"month\"] == 'Май']\n",
    "print(fn)"
   ]
  }
 ],
 "metadata": {
  "language_info": {
   "name": "python"
  },
  "orig_nbformat": 4
 },
 "nbformat": 4,
 "nbformat_minor": 2
}
